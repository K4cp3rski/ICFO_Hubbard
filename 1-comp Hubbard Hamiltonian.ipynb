{
 "cells": [
  {
   "cell_type": "markdown",
   "metadata": {
    "pycharm": {
     "name": "#%% md\n"
    }
   },
   "source": [
    "# One component Hubbard Hamiltonian"
   ]
  },
  {
   "cell_type": "code",
   "execution_count": 1,
   "metadata": {
    "collapsed": false,
    "pycharm": {
     "name": "#%%\n"
    }
   },
   "outputs": [],
   "source": [
    "import sys\n",
    "%matplotlib inline\n",
    "%load_ext autoreload\n",
    "%autoreload 2\n",
    "\n",
    "import numpy as np\n",
    "import matplotlib.pyplot as plt\n",
    "import pandas as pd\n",
    "from numba import njit\n",
    "from numba.typed import List, Dict\n",
    "import scipy as sc\n",
    "import seaborn as sns\n",
    "import concurrent.futures\n",
    "import pickle\n",
    "import multiprocessing as mp\n",
    "import pathlib\n",
    "import os, sys\n",
    "import re\n",
    "import sympy as sym\n",
    "from tqdm import tqdm, notebook\n",
    "from matplotlib import ticker\n",
    "import math\n",
    "from itertools import combinations_with_replacement, permutations, combinations\n",
    "from bisect import bisect_left"
   ]
  },
  {
   "cell_type": "markdown",
   "metadata": {
    "collapsed": false,
    "pycharm": {
     "name": "#%% md\n"
    }
   },
   "source": [
    "## Defining all the calculation functions for further use\n",
    "They will also be exported to a file for later use in other projects"
   ]
  },
  {
   "cell_type": "code",
   "execution_count": 2,
   "metadata": {
    "collapsed": false,
    "pycharm": {
     "name": "#%%\n"
    }
   },
   "outputs": [],
   "source": [
    "@njit\n",
    "def calc_Dim(M, N, statistic='b'):\n",
    "    if statistic == 'b':\n",
    "        return int(np.math.gamma(N+M)/(np.math.gamma(N+1)*np.math.gamma(M)))\n",
    "    elif statistic == 'f':\n",
    "        return int((np.math.gamma(M+1))/(np.math.gamma(N+1)*np.math.gamma(M-N+1)))\n",
    "    else:\n",
    "        raise ValueError(\"Incorrect statistic\")"
   ]
  },
  {
   "cell_type": "code",
   "execution_count": 3,
   "metadata": {
    "collapsed": false,
    "jupyter": {
     "outputs_hidden": false
    },
    "pycharm": {
     "name": "#%%\n"
    }
   },
   "outputs": [],
   "source": [
    "def show_wave_function(psket, Fock_Basis, high_num=3, plot_wf=False, label_ticks=False, print_all=False):\n",
    "    res_dict = {}\n",
    "    ket_to_sort = psket.copy()\n",
    "    for alpha, basis_vec in zip(psket, Fock_Basis):\n",
    "        res_dict[alpha] = basis_vec\n",
    "    ket_to_sort[::-1].sort()\n",
    "    highest_prob = ket_to_sort[0:high_num]\n",
    "    for el in highest_prob:\n",
    "        print(\"{:.4e}\".format(el**2), res_dict[el])\n",
    "    if print_all:\n",
    "        for alpha, basis_vec in zip(psket, Fock_Basis):\n",
    "            print(\"{:.4e}\".format(alpha**2), basis_vec)\n",
    "    if plot_wf:\n",
    "        fig = plt.figure(figsize=(10,8))\n",
    "        ax = plt.subplot(111)\n",
    "        if label_ticks:\n",
    "            ax.set_xticks(np.arange(0, Fock_Basis.shape[0], 1))\n",
    "            ax.set_xticklabels(Fock_Basis,rotation=90)\n",
    "        ax = plt.plot(np.arange(0, Fock_Basis.shape[0], 1), [(lambda alpha: alpha**2)(alpha) for alpha in psket])\n",
    "        # ax.bar(np.arange(0, Fock_Basis.shape[0], 1), [(lambda alpha: alpha**2)(alpha) for alpha in psket])\n",
    "\n",
    "\n",
    "        # ticker.StrMethodFormatter('{x}')\n",
    "        # ax.axis.se"
   ]
  },
  {
   "cell_type": "code",
   "execution_count": 4,
   "metadata": {
    "collapsed": false,
    "pycharm": {
     "name": "#%%\n"
    }
   },
   "outputs": [],
   "source": [
    "@njit(parallel=True)\n",
    "def get_basis(M,N, statistic='b', verb=0):\n",
    "    \"\"\"\n",
    "    A function generating a Fock Basis for many-body calculations. Default is for Bosons, optional for Fermions\n",
    "\n",
    "    :param M:\n",
    "    :param N:\n",
    "    :param verb:\n",
    "    :param statistic:\n",
    "    :return:\n",
    "    \"\"\"\n",
    "    # Defining empty array for the basis vectors\n",
    "    if statistic == 'b':\n",
    "        D = calc_Dim(M, N, 'b')\n",
    "        A = np.zeros(shape=(D,M), dtype=np.int64)\n",
    "    elif statistic == 'f':\n",
    "        if N > M:\n",
    "            raise ValueError(\"Non-physical fermion number\")\n",
    "        D = calc_Dim(M, N, 'b')\n",
    "        A = np.zeros(shape=(D,M), dtype=np.int64)\n",
    "        # dim_F = math.comb(M, N)\n",
    "        dim_F = calc_Dim(M, N, statistic)\n",
    "        A_F = np.zeros(shape=(dim_F, M), dtype=np.int64)\n",
    "        a_f_ind = 0\n",
    "    elif statistic == 'f_2':\n",
    "        if N > M:\n",
    "            raise ValueError(\"Non-physical fermion number\")\n",
    "        dim_F = calc_Dim(M, N, statistic)\n",
    "        A = np.zeros(shape=(dim_F, M), dtype=np.int64)\n",
    "    else:\n",
    "        raise ValueError(\"Incorrect statistic\")\n",
    "\n",
    "    # Setting up the basis vectors\n",
    "    if statistic != 'f_2':\n",
    "        for num, row in enumerate(A):\n",
    "            if num != 0:\n",
    "                row_old = A[num-1].copy()\n",
    "                row_new = row.copy()\n",
    "                k_ind = np.max(np.nonzero(row_old[:M-1])[0])\n",
    "                if row_old[k_ind+1] != 0:\n",
    "                    k_ind = np.max(np.nonzero(A[num-2][:M-1])[0])\n",
    "                # Setting the new row\n",
    "                for i in range(0, k_ind):\n",
    "                    row_new[i] = row_old[i]\n",
    "                row_new[k_ind] = row_old[k_ind] - 1\n",
    "                existing_sum = 0\n",
    "                for pos in range(len(row_new)):\n",
    "                    if pos >= k_ind+3:\n",
    "                        continue\n",
    "                    else:\n",
    "                        existing_sum += row_new[pos]\n",
    "                row_new[k_ind+1] = N - existing_sum\n",
    "\n",
    "                # Copying back the new row\n",
    "                A[num] = row_new\n",
    "                if statistic == 'f':\n",
    "                    if np.max(row_new) < 2:\n",
    "                        A_F[a_f_ind] = row_new\n",
    "                        a_f_ind += 1\n",
    "            else:\n",
    "                row[0] = N\n",
    "                if statistic == 'f':\n",
    "                    if np.max(row) < 2:\n",
    "                        A_F[a_f_ind] = row\n",
    "                        a_f_ind += 1\n",
    "\n",
    "    # Develoment in progress, not fully functional as of now!!!!\n",
    "    else:\n",
    "        # Setting up the basis vectors\n",
    "        for num, row in enumerate(A):\n",
    "            if num != 0:\n",
    "                row_old = A[num-1].copy()\n",
    "                row_new = row.copy()\n",
    "                k_ind = np.max(np.nonzero(row_old[:M-1])[0])\n",
    "                if row_old[k_ind+1] != 0:\n",
    "                    k_ind = np.max(np.nonzero(A[num-2][:M-1])[0])\n",
    "                # if row_old[k_ind] == 0:\n",
    "                #     k_ind -= 1\n",
    "                # Setting the new row\n",
    "                for i in range(0, k_ind):\n",
    "                    row_new[i] = row_old[i]\n",
    "                row_new[k_ind] = row_old[k_ind] - 1\n",
    "                existing_sum = 0\n",
    "                for pos in range(len(row_new)):\n",
    "                    if pos >= k_ind+3:\n",
    "                        continue\n",
    "                    else:\n",
    "                        existing_sum += row_new[pos]\n",
    "                num_left = N - existing_sum\n",
    "                if num_left > 1:\n",
    "                    for i in range(0, num_left):\n",
    "                        row_new[k_ind+1] = 1\n",
    "                        k_ind += 1\n",
    "                else:\n",
    "                    row_new[k_ind+1] = 1\n",
    "\n",
    "                # Copying back the new row\n",
    "                A[num] = row_new\n",
    "\n",
    "            else:\n",
    "                for i in range(0, N):\n",
    "                    row[i] = 1\n",
    "\n",
    "    if verb > 0:\n",
    "        if statistic == 'b' or statistic == 'f_2':\n",
    "            print(A)\n",
    "        elif statistic == 'f':\n",
    "            print(A_F)\n",
    "        else:\n",
    "            raise ValueError(\"Incorrect statistic\")\n",
    "    if statistic == 'b' or statistic == 'f_2':\n",
    "        return A\n",
    "    elif statistic == 'f':\n",
    "        return A_F\n",
    "    else:\n",
    "        raise ValueError(\"Incorrect statistic\")"
   ]
  },
  {
   "cell_type": "code",
   "execution_count": 5,
   "metadata": {
    "collapsed": false,
    "pycharm": {
     "name": "#%%\n"
    }
   },
   "outputs": [],
   "source": [
    "@njit\n",
    "def get_tensor_basis(M,N, statistic='b', component_count=1, verb=0):\n",
    "    vec_num = 0\n",
    "    if statistic == 'b':\n",
    "        D = calc_Dim(M, N, 'b')\n",
    "        A = np.zeros(shape=(D**2,M*component_count), dtype=np.int64)\n",
    "    elif statistic == 'f':\n",
    "        if N > M:\n",
    "            raise ValueError(\"Non-physical fermion number\")\n",
    "        dim_F = calc_Dim(M, N, statistic)\n",
    "        A = np.zeros(shape=(dim_F**2, M*component_count), dtype=np.int64)\n",
    "    else:\n",
    "        raise ValueError(\"Incorrect statistic\")\n",
    "    if component_count == 1:\n",
    "        return get_basis(M,N, statistic=statistic, verb=verb)\n",
    "    else:\n",
    "        bases = {}\n",
    "        for comp_num in range(0, component_count):\n",
    "            if verb > 0:\n",
    "                print(\"Generating basis for component no.\", comp_num)\n",
    "            bases[comp_num] = get_basis(M, N, statistic=statistic, verb=verb)\n",
    "\n",
    "        for ket_1 in bases[0]:\n",
    "            for ket_2 in bases[1]:\n",
    "                A[vec_num] = np.concatenate((ket_1, ket_2))\n",
    "                vec_num+=1\n",
    "    return A\n"
   ]
  },
  {
   "cell_type": "code",
   "execution_count": 6,
   "metadata": {
    "collapsed": false,
    "pycharm": {
     "name": "#%%\n"
    }
   },
   "outputs": [],
   "source": [
    "@njit\n",
    "def a_operator(i_ind, ket, kind='c', component_number=None, ket_size=None, statistic=\"b\", pbc=0, component_count=1):\n",
    "    \"\"\"\n",
    "    A joint function for anihillation and creation operators for bosons (b_i, b_i^\\dagger) and fermions (c_i, c_i^\\dagger) which acts on input ket from multi-particle Fock basis.\n",
    "\n",
    "    :param i_ind: Index of interest (as in a_i)\n",
    "    :param ket: The basis vector the operator acts on\n",
    "    :param kind: Operator kind, either 'c' for creation' or 'a' for anihillation is permitted\n",
    "    :param component_number: Number of component in a tensor-multiplied basis. If none, then singular basis is assumed. Numbering from 0\n",
    "    :param ket_size: Size of single component of tensor-multiplied basis\n",
    "    :param statistic: Particle statistic, 'b' for Boson, or 'f' for Fermion\n",
    "    :param pbc: Periodic Boundary Conditions. 0 - off, 1 - on\n",
    "    :return: Returns multiplying factor, and new ket\n",
    "    \"\"\"\n",
    "    # Setting which site should be modified based on boundary conditions.\n",
    "    if pbc == 0:\n",
    "        i_mod = i_ind\n",
    "    else:\n",
    "        i_mod = np.mod(i_ind, ket.shape[0])\n",
    "    # Creation operator\n",
    "    if kind == \"c\":\n",
    "        if statistic == \"b\":\n",
    "            if component_count == 1:\n",
    "                factor = np.sqrt(ket[i_mod]+1)\n",
    "                ket_new = ket.copy()\n",
    "                ket_new[i_mod] += 1\n",
    "            else:\n",
    "                ket_to_mod = ket[component_number*ket_size:(component_number+1)*ket_size]\n",
    "                factor = np.sqrt(ket_to_mod[i_mod]+1)\n",
    "                ket_new = ket_to_mod.copy()\n",
    "                ket_new[i_mod] += 1\n",
    "                before = ket[0:(component_number)*ket_size]\n",
    "                after = ket[(component_number+1)*ket_size:(component_number+2)*ket_size]\n",
    "                ket_out = np.concatenate((before, ket_new, after))\n",
    "                return factor, ket_out\n",
    "        elif statistic == \"f\":\n",
    "            if component_count == 1:\n",
    "                if ket[i_mod] == 1:\n",
    "                    return 0, ket\n",
    "                factor = np.sqrt(ket[i_mod]+1)\n",
    "                ket_new = ket.copy()\n",
    "                ket_new[i_mod] += 1\n",
    "            else:\n",
    "                ket_to_mod = ket[component_number*ket_size:(component_number+1)*ket_size]\n",
    "                if ket_to_mod[i_mod] == 1:\n",
    "                    return 0, ket\n",
    "                minus_factor = np.count_nonzero(ket[component_number*ket_size:component_number*ket_size+i_mod])\n",
    "                factor = np.sqrt(ket_to_mod[i_mod]+1)*np.power(-1, minus_factor)\n",
    "                ket_new = ket_to_mod.copy()\n",
    "                ket_new[i_mod] += 1\n",
    "                # print(ket_new)\n",
    "                before = ket[0:(component_number)*ket_size]\n",
    "                after = ket[(component_number+1)*ket_size:(component_number+2)*ket_size]\n",
    "                ket_out = np.concatenate((before, ket_new, after))\n",
    "                # print(ket_out)\n",
    "                return factor, ket_out\n",
    "    # Anihillation operator\n",
    "    if kind == \"a\":\n",
    "        if statistic == \"b\":\n",
    "            if component_count == 1:\n",
    "                if ket[i_mod] == 0:\n",
    "                    return 0, ket\n",
    "                factor = np.sqrt(ket[i_mod])\n",
    "                ket_new = ket.copy()\n",
    "                ket_new[i_mod] -= 1\n",
    "            else:\n",
    "                ket_to_mod = ket[component_number*ket_size:(component_number+1)*ket_size]\n",
    "                if ket_to_mod[i_mod] == 0:\n",
    "                    return 0, ket\n",
    "                factor = np.sqrt(ket_to_mod[i_mod])\n",
    "                ket_new = ket_to_mod.copy()\n",
    "                ket_new[i_mod] -= 1\n",
    "                before = ket[0:(component_number)*ket_size]\n",
    "                after = ket[(component_number+1)*ket_size:(component_number+2)*ket_size]\n",
    "                ket_out = np.concatenate((before, ket_new, after))\n",
    "                return factor, ket_out\n",
    "        elif statistic == \"f\":\n",
    "            if component_count == 1:\n",
    "                if ket[i_mod] == 0:\n",
    "                    return 0, ket\n",
    "                factor = np.sqrt(ket[i_mod])\n",
    "                ket_new = ket.copy()\n",
    "                ket_new[i_mod] -= 1\n",
    "            else:\n",
    "                ket_to_mod = ket[component_number*ket_size:(component_number+1)*ket_size]\n",
    "                if ket_to_mod[i_mod] == 0:\n",
    "                    return 0, ket\n",
    "                minus_factor = np.count_nonzero(ket[component_number*ket_size:component_number*ket_size+i_mod])\n",
    "                factor = np.sqrt(ket_to_mod[i_mod])*np.power(-1, minus_factor)\n",
    "                ket_new = ket_to_mod.copy()\n",
    "                ket_new[i_mod] -= 1\n",
    "                # print(ket_new)\n",
    "                before = ket[0:(component_number)*ket_size]\n",
    "                after = ket[(component_number+1)*ket_size:(component_number+2)*ket_size]\n",
    "                ket_out = np.concatenate((before, ket_new, after))\n",
    "                # print(ket_out)\n",
    "                return factor, ket_out\n",
    "    return factor, ket_new"
   ]
  },
  {
   "cell_type": "code",
   "execution_count": 7,
   "metadata": {
    "collapsed": false,
    "pycharm": {
     "name": "#%%\n"
    }
   },
   "outputs": [],
   "source": [
    "def calc_IPR(ket):\n",
    "    return 1/np.sum([(lambda i: ket[i]**4)(i) for i in range(0, ket.shape[0])])"
   ]
  },
  {
   "cell_type": "code",
   "execution_count": 8,
   "metadata": {
    "collapsed": false,
    "pycharm": {
     "name": "#%%\n"
    }
   },
   "outputs": [],
   "source": [
    "@njit\n",
    "def tag_func(v):\n",
    "    \"\"\"\n",
    "    The tagging function, which hashes all the basis vectors with unique values, according to equation:\n",
    "    T(v) = \\sum_i \\sqrt{p_i} v_i where i is the index of element in the vector\n",
    "\n",
    "    :param v: A vector to hash\n",
    "    :return: Hash of the vector\n",
    "    \"\"\"\n",
    "    res_tab = np.zeros(len(v))\n",
    "    for i in range(0,len(v)):\n",
    "        res_tab[i] = np.sqrt(100*(i+1)+3)*v[i]\n",
    "    return np.sum(res_tab)"
   ]
  },
  {
   "cell_type": "code",
   "execution_count": 9,
   "metadata": {
    "collapsed": false,
    "pycharm": {
     "name": "#%%\n"
    }
   },
   "outputs": [],
   "source": [
    "@njit\n",
    "def find_orig_idx(ket, t_dict):\n",
    "    \"\"\"\n",
    "    Function for finding which basis vector is the input ket\n",
    "\n",
    "    :param ket: Hashed ket to be searched in the original Hilbert space basis\n",
    "    :param t_dict: dictionary of hashed basis vectors\n",
    "    :return: Index of input vector in the original ordered basis of the Hilbert space\n",
    "    \"\"\"\n",
    "    ket_hash = tag_func(ket)\n",
    "    try:\n",
    "        a = t_dict[ket_hash]\n",
    "        return int(a)\n",
    "    except Exception:\n",
    "        return -1\n",
    "    # sorted_idx = np.searchsorted(t_sorted, ket_hash)\n",
    "    # if ket_hash != t_sorted[sorted_idx]:\n",
    "    #     # Here taking care of vectors that are not in the basis\n",
    "    #     return -1\n",
    "    # else:\n",
    "    #     return ind[sorted_idx]\n"
   ]
  },
  {
   "cell_type": "code",
   "execution_count": 10,
   "metadata": {
    "collapsed": false,
    "pycharm": {
     "name": "#%%\n"
    }
   },
   "outputs": [],
   "source": [
    "# @njit\n",
    "def get_kinetic_H(A, M, J, t_dict, pbc=0, statistic='b', component_no=1, component_count=1):\n",
    "    values = List()\n",
    "\n",
    "    ket_idx_list = List()\n",
    "\n",
    "    ket_tilde_tilde_idx_list = List()\n",
    "\n",
    "    ket_len = M\n",
    "\n",
    "    if pbc == 0:\n",
    "        range_end = M-1\n",
    "    else:\n",
    "        range_end = M\n",
    "\n",
    "    # for component_no in range(0, component_count):\n",
    "    for ket in A:\n",
    "        for i in range(0, range_end):\n",
    "\n",
    "            if pbc == 0:\n",
    "                i_next = i+1\n",
    "            else:\n",
    "                i_next = np.mod(i+1, ket_len)\n",
    "\n",
    "            for (anihillated, created) in [(i, i_next), (i_next, i)]:\n",
    "                if component_count > 1:\n",
    "                    multicomp_factor = component_no*ket_len\n",
    "                else:\n",
    "                    multicomp_factor = 0\n",
    "                if ket[multicomp_factor+anihillated] > 0:\n",
    "\n",
    "                    factor_1, ket_tilde = a_operator(anihillated, ket, 'a', pbc=pbc, statistic=statistic, component_number=component_no, ket_size=ket_len, component_count=component_count)\n",
    "                    factor_2, ket_tilde_tilde = a_operator(created, ket_tilde, 'c', pbc=pbc, statistic=statistic, component_number=component_no, ket_size=ket_len, component_count=component_count)\n",
    "\n",
    "                    ket_idx = find_orig_idx(ket, t_dict)\n",
    "                    ket_tilde_tilde_idx = find_orig_idx(ket_tilde_tilde, t_dict)\n",
    "\n",
    "                    val = J*factor_1*factor_2\n",
    "\n",
    "                    if ket_tilde_tilde_idx == -1 or np.abs(val) == 0:\n",
    "                        continue\n",
    "                    else:\n",
    "\n",
    "                        values.append(val)\n",
    "\n",
    "                        ket_idx_list.append(ket_idx)\n",
    "\n",
    "                        ket_tilde_tilde_idx_list.append(ket_tilde_tilde_idx)\n",
    "\n",
    "    return values, ket_idx_list, ket_tilde_tilde_idx_list"
   ]
  },
  {
   "cell_type": "code",
   "execution_count": 11,
   "metadata": {
    "collapsed": false,
    "pycharm": {
     "name": "#%%\n"
    }
   },
   "outputs": [],
   "source": [
    "@njit\n",
    "def get_interactions_H(A, M, U, t_dict, statistic='b', component_no=1, component_count=1):\n",
    "    values = List()\n",
    "\n",
    "    ket_idx_list = List()\n",
    "\n",
    "    ket_tilde_tilde_idx_list = List()\n",
    "\n",
    "    ket_len = M\n",
    "\n",
    "    for ket in A:\n",
    "        for i in range(0, M):\n",
    "            if ket[i] > 0:\n",
    "                factor_1, ket_t1 = a_operator(i, ket, 'a', statistic=statistic, component_number=component_no, ket_size=ket_len, component_count=component_count)\n",
    "                factor_2, ket_t2 = a_operator(i, ket_t1, 'c', statistic=statistic, component_number=component_no, ket_size=ket_len, component_count=component_count)\n",
    "                factor_3, ket_t3 = a_operator(i, ket_t2, 'a', statistic=statistic, component_number=component_no, ket_size=ket_len, component_count=component_count)\n",
    "                factor_4, ket_t4 = a_operator(i, ket_t3, 'c', statistic=statistic, component_number=component_no, ket_size=ket_len, component_count=component_count)\n",
    "\n",
    "                ket_idx = find_orig_idx(ket, t_dict)\n",
    "                ket_tilde_tilde_idx = find_orig_idx(ket_t4, t_dict)\n",
    "\n",
    "                val = (U/2.0)*factor_1*factor_2*factor_3*factor_4\n",
    "\n",
    "                values.append(val)\n",
    "\n",
    "                ket_idx_list.append(ket_idx)\n",
    "\n",
    "                ket_tilde_tilde_idx_list.append(ket_tilde_tilde_idx)\n",
    "\n",
    "                # Second part of the equation\n",
    "\n",
    "                factor_1_bis, ket_t1_bis = a_operator(i, ket, 'a', statistic=statistic, component_number=component_no, ket_size=ket_len, component_count=component_count)\n",
    "                factor_2_bis, ket_t2_bis = a_operator(i, ket_t1_bis, 'c', statistic=statistic, component_number=component_no, ket_size=ket_len, component_count=component_count)\n",
    "\n",
    "                ket_idx = find_orig_idx(ket, t_dict)\n",
    "                ket_tilde_tilde_idx_bis = find_orig_idx(ket_t2_bis, t_dict)\n",
    "\n",
    "                val_bis = (-1)*(U/2.0)*factor_1_bis*factor_2_bis\n",
    "\n",
    "                values.append(val_bis)\n",
    "\n",
    "                ket_idx_list.append(ket_idx)\n",
    "\n",
    "                ket_tilde_tilde_idx_list.append(ket_tilde_tilde_idx_bis)\n",
    "                factor_1, ket_t1 = a_operator(i, ket, 'a', statistic=statistic, component_number=component_no, ket_size=ket_len, component_count=component_count)\n",
    "                factor_2, ket_t2 = a_operator(i, ket_t1, 'c', statistic=statistic, component_number=component_no, ket_size=ket_len, component_count=component_count)\n",
    "                factor_3, ket_t3 = a_operator(i, ket_t2, 'a', statistic=statistic, component_number=component_no, ket_size=ket_len, component_count=component_count)\n",
    "                factor_4, ket_t4 = a_operator(i, ket_t3, 'c', statistic=statistic, component_number=component_no, ket_size=ket_len, component_count=component_count)\n",
    "\n",
    "                ket_idx = find_orig_idx(ket, t_dict)\n",
    "                ket_tilde_tilde_idx = find_orig_idx(ket_t4, t_dict)\n",
    "\n",
    "                val = (U/2.0)*factor_1*factor_2*factor_3*factor_4\n",
    "\n",
    "                values.append(val)\n",
    "\n",
    "                ket_idx_list.append(ket_idx)\n",
    "\n",
    "                ket_tilde_tilde_idx_list.append(ket_tilde_tilde_idx)\n",
    "\n",
    "                # Second part of the equation\n",
    "\n",
    "                factor_1_bis, ket_t1_bis = a_operator(i, ket, 'a', statistic=statistic, component_number=component_no, ket_size=ket_len, component_count=component_count)\n",
    "                factor_2_bis, ket_t2_bis = a_operator(i, ket_t1_bis, 'c', statistic=statistic, component_number=component_no, ket_size=ket_len, component_count=component_count)\n",
    "\n",
    "                ket_idx = find_orig_idx(ket, t_dict)\n",
    "                ket_tilde_tilde_idx_bis = find_orig_idx(ket_t2_bis, t_dict)\n",
    "\n",
    "                val_bis = (-1)*(U/2.0)*factor_1_bis*factor_2_bis\n",
    "\n",
    "                values.append(val_bis)\n",
    "\n",
    "                ket_idx_list.append(ket_idx)\n",
    "\n",
    "                ket_tilde_tilde_idx_list.append(ket_tilde_tilde_idx_bis)\n",
    "\n",
    "    return values, ket_idx_list, ket_tilde_tilde_idx_list"
   ]
  },
  {
   "cell_type": "code",
   "execution_count": 12,
   "metadata": {
    "collapsed": false,
    "pycharm": {
     "name": "#%%\n"
    }
   },
   "outputs": [],
   "source": [
    "def plot_coo_matrix(m, title=None):\n",
    "    \"\"\"\n",
    "    A function for plotting sparse matrix sparcity pattern\n",
    "\n",
    "    :param m: Matrix to be plotted\n",
    "    :param title: Optional variable for labeling the plot\n",
    "    :return: Matplotlib axis object\n",
    "    \"\"\"\n",
    "    if not isinstance(m, sc.sparse.coo_matrix):\n",
    "        m = sc.sparse.coo_matrix(m)\n",
    "    fig = plt.figure(figsize=(8,8), facecolor=\"silver\")\n",
    "    ax = fig.add_subplot(111)\n",
    "    ax.plot(m.col, m.row, 's', color='k', ms=2)\n",
    "    ax.set_xlim(0, m.shape[1])\n",
    "    ax.set_ylim(0, m.shape[0])\n",
    "    ax.set_aspect('equal')\n",
    "    if title:\n",
    "        ax.set_title(title, fontsize=20, color='firebrick')\n",
    "    for spine in ax.spines.values():\n",
    "        spine.set_visible(True)\n",
    "    ax.invert_yaxis()\n",
    "    ax.set_aspect('equal')\n",
    "    # ax.set_xticks([])\n",
    "    # ax.set_yticks([])\n",
    "    return ax"
   ]
  },
  {
   "cell_type": "code",
   "execution_count": 13,
   "metadata": {
    "collapsed": false,
    "pycharm": {
     "name": "#%%\n"
    }
   },
   "outputs": [],
   "source": [
    "def save_sparse_coo(filename, array):\n",
    "    # note that .npz extension is added automatically\n",
    "    sc.sparse.save_npz(filename, array)\n",
    "\n",
    "def load_sparse_coo(filename):\n",
    "    # here we need to add .npz extension manually\n",
    "    loader = sc.sparse.load_npz(filename + '.npz')\n",
    "    return loader"
   ]
  },
  {
   "cell_type": "code",
   "execution_count": 161,
   "metadata": {
    "collapsed": false,
    "pycharm": {
     "name": "#%%\n"
    }
   },
   "outputs": [],
   "source": [
    "def get_Hamiltonian(N, M, J, U, pbc=0, statistic='b', basis_apriori=None, save_sparse=False, plot_accurate=False, annot_accurate=False, plot_sparsity_pattern=False, save_plot=False, return_basis=False, plot_show=False, component_count=1, component_no=0):\n",
    "    \"\"\"\n",
    "    A function for generating a 1-D Bose-Hubbard model Hamiltonian. The system is defined by parameters N - total number of particles in the system, M - total number of sites in the chain, J - Hopping parameter, U - On-site potential parameter.\n",
    "\n",
    "    :param N: Total number of paricles in the system\n",
    "    :param M: Total number of sites in the chain\n",
    "    :param J: Hoppin parameter\n",
    "    :param U: On-site potential parameter\n",
    "    :param pbc: Periodic Boundary Conditions. 0 - off, 1 - on\n",
    "    :param save_sparse: Save resulting Hamitonian in sparse format in the working directory\n",
    "    :param plot_accurate: Plot accurately all the fields of the resulting Hamiltonian. If 'annot_accurate' kwarg is set to True, then actual values are also annotated\n",
    "    :param annot_accurate: Only takes effect if `plot_accurate` is set to True, annotates plotted Hamiltonian with exact values\n",
    "    :param plot_sparsity_pattern: Plots general shape of non-zero element in Hamiltonian. Useful with large matrices, which are not suitable for exact plotting\n",
    "    :param save_plot: Saves plotted precise plot/sparcity pattern\n",
    "    :param return_basis: If set to True, then the generated Fock basis is also returned\n",
    "    :param plot_show: Should drawn plot be shown, flag added for just saving generated plots\n",
    "    :return: Hamiltonian in COO sparse matrix format, or a tuple containing spare Hamiltonian, and a dense matrix with Fock basis states\n",
    "    \"\"\"\n",
    "    if statistic == 'b':\n",
    "        D = calc_Dim(M, N, statistic)\n",
    "    elif statistic == 'f':\n",
    "        if N > M:\n",
    "            raise ValueError(\"Non-physical fermion number\")\n",
    "        D = calc_Dim(M, N, statistic)\n",
    "    else:\n",
    "        raise ValueError(\"Incorrect statistic\")\n",
    "    if basis_apriori is None:\n",
    "        # Setting the occupational basis:\n",
    "        A = get_tensor_basis(M, N, statistic=statistic, component_count=component_count)\n",
    "    else:\n",
    "        A = basis_apriori\n",
    "\n",
    "    # Getting the basis vectors hashed\n",
    "    tab_T = np.array([tag_func(v) for v in A])\n",
    "    # # Preserving the original order of basis vectors\n",
    "    # ind = np.argsort(tab_T)\n",
    "    # # Sorting the new array for more efficient searching (by bisection)\n",
    "    # t_sorted = tab_T.copy()\n",
    "    # t_sorted.sort()\n",
    "    t_dict = Dict()\n",
    "    for key, val in zip(tab_T, np.arange(0, A.shape[0])):\n",
    "        t_dict[key] = val\n",
    "\n",
    "    # First tab - values, last two tabs - coordinates\n",
    "    H_kin_prep = [List(), List(), List()]\n",
    "    H_int_prep = [List(), List(), List()]\n",
    "\n",
    "    H_kin_prep = get_kinetic_H(A, M, J, t_dict, pbc=pbc, statistic=statistic, component_no=component_no, component_count=component_count)\n",
    "    H_int_prep = get_interactions_H(A, M, U, t_dict, statistic=statistic, component_no=component_no, component_count=component_count)\n",
    "\n",
    "    mat = sc.sparse.coo_matrix((H_kin_prep[0], (H_kin_prep[1], H_kin_prep[2])), shape=(D, D))\n",
    "    mat_int = sc.sparse.coo_matrix((H_int_prep[0], (H_int_prep[1], H_int_prep[2])), shape=(D, D))\n",
    "\n",
    "    Total_H = mat + mat_int\n",
    "\n",
    "    if save_sparse:\n",
    "        p = pathlib.Path.cwd().joinpath(\"{}_component\".format(component_count)).joinpath(\"Hamiltonians\").joinpath(\"N={}_L={}\".format(N, M))\n",
    "        if not p.exists():\n",
    "            p.mkdir(parents=True, exist_ok=True)\n",
    "        sc.sparse.save_npz(\"{}_component/Hamiltonians/N={}_L={}/{}_Hamiltonian_N={}_L={}_U_J=\".format(component_count, N, M, 'BH' if stat == 'b' else 'FH', N, M)+re.sub(\"\\\\.\", \"_\", \"{:.2f}\".format(np.abs(U/J)))+\"\", Total_H)\n",
    "\n",
    "    if plot_sparsity_pattern:\n",
    "        ax = plot_coo_matrix(Total_H, title=\"N = {}, L = {}, U/J = {}, dim = {}\".format(N, M, np.abs(U/J), D))\n",
    "        if save_plot:\n",
    "            p_sparse = pathlib.Path.cwd().joinpath(\"{}_component\".format(component_count)).joinpath(\"Plots\").joinpath(\"Hamiltonians\").joinpath(\"N={}_L={}\".format(N, M))\n",
    "            if not p_sparse.exists():\n",
    "                p_sparse.mkdir(parents=True, exist_ok=True)\n",
    "            if pbc == 1:\n",
    "                ax.figure.savefig(\"{}_component/Plots/Hamiltonians/N={}_L={}/{}_Hamiltonian_sparse_N={}_L={}_U_J=\".format(component_count, N, M, 'BH' if stat == 'b' else 'FH', N, M)+re.sub(\"\\\\.\", \"_\", \"{:.2f}\".format(np.abs(U/J)))+\"_PBC.pdf\")\n",
    "            else:\n",
    "                ax.figure.savefig(\"{}_component/Plots/Hamiltonians/N={}_L={}/{}_Hamiltonian_sparse_N={}_L={}_U_J=\".format(component_count, N, M, 'BH' if stat == 'b' else 'FH', N, M)+re.sub(\"\\\\.\", \"_\", \"{:.2f}\".format(np.abs(U/J)))+\".pdf\")\n",
    "        if plot_show:\n",
    "            ax.figure.show()\n",
    "        plt.close()\n",
    "\n",
    "    if plot_accurate:\n",
    "        fig = plt.figure(figsize=(10,8))\n",
    "        ax = fig.add_subplot(111)\n",
    "        ax.set_title(\"N = {}, L = {}, U/J = {}, dim = {}\".format(N, M, np.abs(U/J), D))\n",
    "        sns.heatmap(Total_H.toarray(), square=True, cmap='coolwarm', annot=annot_accurate, ax=ax)\n",
    "        if save_plot:\n",
    "            p_plot = pathlib.Path.cwd().joinpath(\"{}_component\".format(component_count)).joinpath(\"Plots\").joinpath(\"Hamiltonians\").joinpath(\"N={}_L={}\".format(N, M))\n",
    "            if not p_plot.exists():\n",
    "                p_plot.mkdir(parents=True, exist_ok=True)\n",
    "            if pbc == 1:\n",
    "                fig.savefig(\"{}_component/Plots/Hamiltonians/N={}_L={}/{}_Hamiltonian_N={}_L={}_U_J=\".format(component_count, N, M, 'BH' if stat == 'b' else 'FH', N, M)+re.sub(\"\\\\.\", \"_\", \"{:.2f}\".format(np.abs(U/J)))+\"_PBC.pdf\")\n",
    "            else:\n",
    "                fig.savefig(\"{}_component/Plots/Hamiltonians/N={}_L={}/{}_Hamiltonian_N={}_L={}_U_J=\".format(component_count, N, M, 'BH' if stat == 'b' else 'FH', N, M)+re.sub(\"\\\\.\", \"_\", \"{:.2f}\".format(np.abs(U/J)))+\".pdf\")\n",
    "        if plot_show:\n",
    "            plt.show(fig)\n",
    "        plt.close()\n",
    "\n",
    "    if return_basis:\n",
    "        return Total_H, A\n",
    "    else:\n",
    "        return Total_H"
   ]
  },
  {
   "cell_type": "code",
   "execution_count": 15,
   "metadata": {
    "collapsed": false,
    "pycharm": {
     "name": "#%%\n"
    }
   },
   "outputs": [],
   "source": [
    "@njit\n",
    "def fock_dot(ket_w, ket_v):\n",
    "    if np.array_equal(ket_w, ket_v):\n",
    "        return 1\n",
    "    else:\n",
    "        return 0"
   ]
  },
  {
   "cell_type": "code",
   "execution_count": 16,
   "metadata": {
    "collapsed": false,
    "pycharm": {
     "name": "#%%\n"
    }
   },
   "outputs": [],
   "source": [
    "@njit\n",
    "def get_density_matrix_comp(M, Fock_Basis, evecs, pbc, k=0, statistic='b', component_no=0, component_count=1):\n",
    "    values = List()\n",
    "\n",
    "    pos_i_list = List()\n",
    "\n",
    "    pos_j_list = List()\n",
    "\n",
    "    range_end = M\n",
    "\n",
    "    ket_psi = evecs[:, k]\n",
    "\n",
    "    ket_len = M\n",
    "\n",
    "    for i in range(0, range_end):\n",
    "        for j in range(0, range_end):\n",
    "            for num_w, ket_w in enumerate(Fock_Basis):\n",
    "                for num_v, ket_v in enumerate(Fock_Basis):\n",
    "                    c_ij = 0\n",
    "                    for (anihillated, created) in [(j, i)]:\n",
    "                        hash_val = 0\n",
    "                        factor_1, ket_v_tilde = a_operator(anihillated, ket_v, 'a', pbc=pbc, statistic=statistic, component_number=component_no, ket_size=ket_len, component_count=component_count)\n",
    "                        factor_2, ket_v_tilde_tilde = a_operator(created, ket_v_tilde, 'c', pbc=pbc, statistic=statistic, component_number=component_no, ket_size=ket_len, component_count=component_count)\n",
    "\n",
    "                        hash_val = factor_1*factor_2*fock_dot(ket_w, ket_v_tilde_tilde)*np.conj(ket_psi[num_w])*ket_psi[num_v]\n",
    "                        c_ij += hash_val\n",
    "\n",
    "                    if c_ij == 0:\n",
    "                        pass\n",
    "                    else:\n",
    "                        values.append(float(c_ij))\n",
    "\n",
    "                        pos_i_list.append(i)\n",
    "\n",
    "                        pos_j_list.append(j)\n",
    "\n",
    "    return values, pos_i_list, pos_j_list"
   ]
  },
  {
   "cell_type": "code",
   "execution_count": 17,
   "metadata": {
    "collapsed": false,
    "pycharm": {
     "name": "#%%\n"
    }
   },
   "outputs": [],
   "source": [
    "def get_density_matrix(N, M, Fock_Basis, evecs, pbc, U, J, k=0, statistic='b', save_sparse=False, save_plot=False, plot_show=False, annot_plot=False, component_count=1, component_no=1):\n",
    "    # first for the ground state, k = 0\n",
    "    # First tab - values, second and third - coordinates\n",
    "    rho_k = [List(), List(), List()]\n",
    "    rho_k = get_density_matrix_comp(M, Fock_Basis, evecs, pbc, statistic=statistic, component_count=component_count, component_no=component_no)\n",
    "    rho_k = sc.sparse.coo_matrix((rho_k[0], (rho_k[1], rho_k[2])), shape=(M, M))\n",
    "    if save_sparse:\n",
    "        p = pathlib.Path.cwd().joinpath(\"{}_component\".format(component_count)).joinpath(\"Density_Matrices\").joinpath(\"N={}_L={}\".format(N, M))\n",
    "        if not p.exists():\n",
    "            p.mkdir(parents=True, exist_ok=True)\n",
    "        sc.sparse.save_npz(\"{}_component/Density_Matrices/N={}_L={}/{}_DM_N={}_L={}_U_J=\".format(component_count,N , M, 'BH' if stat == 'b' else 'FH', N, M)+re.sub(\"\\\\.\", \"_\", \"{:.2f}\".format(np.abs(U/J)))+\"_k={}\".format(k), rho_k)\n",
    "    if save_plot:\n",
    "        p_plot = pathlib.Path.cwd().joinpath(\"{}_component\".format(component_count)).joinpath(\"Plots\").joinpath(\"Density_Matrices\").joinpath(\"N={}_L={}\".format(N, M))\n",
    "        if not p_plot.exists():\n",
    "            p_plot.mkdir(parents=True, exist_ok=True)\n",
    "        fig = plt.figure(figsize=(10,8))\n",
    "        ax = fig.add_subplot(111)\n",
    "        ax.set_title(\"N = {}, L = {}, U/J={}\".format(N, M, np.abs(U/J)))\n",
    "        sns.heatmap(np.matrix(rho_k.toarray()), square=True, cmap='coolwarm', annot=annot_plot, ax=ax)\n",
    "        fig.savefig(\"{}_component/Plots/Density_Matrices/N={}_L={}/{}_Hamiltonian_N={}_L={}_U_J=\".format(component_count, N, M, 'BH' if stat == 'b' else 'FH', N, M)+re.sub(\"\\\\.\", \"_\", \"{:.2f}\".format(np.abs(U/J)))+\".pdf\")\n",
    "        if plot_show:\n",
    "            plt.show(fig)\n",
    "        plt.close()\n",
    "    return rho_k"
   ]
  },
  {
   "cell_type": "code",
   "execution_count": 18,
   "metadata": {
    "collapsed": false,
    "pycharm": {
     "name": "#%%\n"
    }
   },
   "outputs": [],
   "source": [
    "@njit\n",
    "def get_n_i_squared(i, Fock_Basis, evecs, pbc=0, k=0, component_count=1):\n",
    "    values = List()\n",
    "\n",
    "    pos_i_list = List()\n",
    "\n",
    "    pos_j_list = List()\n",
    "\n",
    "    ket_psi = evecs[:, k]\n",
    "\n",
    "    for num_w, ket_w in enumerate(Fock_Basis):\n",
    "        for num_v, ket_v in enumerate(Fock_Basis):\n",
    "            # if pbc == 0:\n",
    "            #     i_next = i+1\n",
    "            # else:\n",
    "            #     i_next = np.mod(i+1, ket.shape[0])\n",
    "            c_ii = 0\n",
    "            for (anihillated, created) in [(i, i)]:\n",
    "                hash_val = 0\n",
    "                factor_1, ket_v_tilde = a_operator(anihillated, ket_v, 'a', pbc=pbc, component_count=component_count)\n",
    "                factor_2, ket_v_2_tilde = a_operator(created, ket_v_tilde, 'c', pbc=pbc, component_count=component_count)\n",
    "                factor_3, ket_v_3_tilde = a_operator(anihillated, ket_v_2_tilde, 'a', pbc=pbc, component_count=component_count)\n",
    "                factor_4, ket_v_4_tilde = a_operator(created, ket_v_3_tilde, 'c', pbc=pbc, component_count=component_count)\n",
    "\n",
    "                hash_val = factor_1*factor_2*factor_3*factor_4*fock_dot(ket_w, ket_v_4_tilde)*np.conj(ket_psi[num_w])*ket_psi[num_v]\n",
    "                c_ii += hash_val\n",
    "\n",
    "            if c_ii == 0:\n",
    "                pass\n",
    "            else:\n",
    "                values.append(float(c_ii))\n",
    "\n",
    "                pos_i_list.append(i)\n",
    "\n",
    "                pos_j_list.append(i)\n",
    "\n",
    "    return sum(values)"
   ]
  },
  {
   "cell_type": "code",
   "execution_count": 19,
   "metadata": {
    "pycharm": {
     "name": "#%%\n"
    }
   },
   "outputs": [],
   "source": [
    "@njit\n",
    "def get_n_i_variance(i, ni_in, Fock_Basis, evecs, pbc=0, k=0):\n",
    "    ni_sq = get_n_i_squared(i, Fock_Basis, evecs, pbc, k)\n",
    "    sq_ni = np.power(ni_in, 2)\n",
    "    return np.sqrt(ni_sq - sq_ni)"
   ]
  },
  {
   "cell_type": "code",
   "execution_count": 20,
   "metadata": {
    "collapsed": false,
    "pycharm": {
     "name": "#%%\n"
    }
   },
   "outputs": [],
   "source": [
    "def get_total_variance(N, rho_k, Fock_Basis, evecs, pbc=0, k=0):\n",
    "    i_tab = np.arange(0,N)\n",
    "    var_tot = 0\n",
    "    with concurrent.futures.ThreadPoolExecutor(max_workers=12) as executor:\n",
    "        future_to_n_i_variations = {executor.submit(get_n_i_variance, i, rho_k.diagonal()[i], Fock_Basis, evecs, pbc, k): i for i in i_tab}\n",
    "        for future in concurrent.futures.as_completed(future_to_n_i_variations):\n",
    "            # print(\"Completed i = {}, result = {:.5f}\".format(future_to_n_i_variations[future], future.result()))\n",
    "            var_tot += future.result()\n",
    "        var_tot /= N\n",
    "    return var_tot"
   ]
  },
  {
   "cell_type": "code",
   "execution_count": 21,
   "metadata": {
    "collapsed": false,
    "pycharm": {
     "name": "#%%\n"
    }
   },
   "outputs": [],
   "source": [
    "def get_data_for_plots(M,N,J,U,pbc=0,k=0,basis_apriori=None, plot_type='sparse'):\n",
    "    if basis_apriori is None:\n",
    "        Fock_Basis = get_basis(M, N)\n",
    "    else:\n",
    "        Fock_Basis = basis_apriori\n",
    "    if plot_type == 'sparse':\n",
    "        sparse_type = True\n",
    "        accurate_type = False\n",
    "        save_parameter = True\n",
    "    elif plot_type == 'off':\n",
    "        sparse_type = False\n",
    "        accurate_type = False\n",
    "        save_parameter = False\n",
    "    else:\n",
    "        sparse_type = False\n",
    "        accurate_type = True\n",
    "        save_parameter = True\n",
    "    H = get_Hamiltonian(N=N, M=M, J=J, U=U, basis_apriori=Fock_Basis, pbc=1, plot_accurate=accurate_type, annot_accurate=False, plot_sparsity_pattern=sparse_type, save_plot=save_parameter, return_basis=False, save_sparse=True, plot_show=False)\n",
    "    evals, evecs = sc.sparse.linalg.eigsh(H, 2, which='SA', return_eigenvectors=True)\n",
    "    delta_E = evals[1] - evals[0]\n",
    "    rho_k = get_density_matrix(N, M, Fock_Basis, evecs, pbc, U, J, save_sparse=True, save_plot=save_parameter)\n",
    "    lambda_1 = sc.sparse.linalg.eigsh(rho_k, 1, which='LA', return_eigenvectors=False)[0]\n",
    "    f_c = lambda_1 / N\n",
    "    rho_csr = sc.sparse.csr_matrix(rho_k)\n",
    "    correltation = rho_csr[0, (M//2)-1]\n",
    "    var_tot = get_total_variance(N, rho_k, Fock_Basis, evecs, pbc, k)\n",
    "    return {\"delta_E\": delta_E, \"f_c\": f_c, \"total_variance\": var_tot, \"correlation\" : correltation}"
   ]
  },
  {
   "cell_type": "code",
   "execution_count": 22,
   "metadata": {
    "collapsed": false,
    "pycharm": {
     "name": "#%%\n"
    }
   },
   "outputs": [],
   "source": [
    "def generate_data(N, M, J, U_range=None, pbc=1, plot_type='sparse'):\n",
    "    if U_range is None:\n",
    "        U_tab = np.arange(0, 20, 1)\n",
    "    else:\n",
    "        U_tab = U_range\n",
    "    D = calc_Dim(M, N)\n",
    "    Fock_Basis = get_basis(M, N)\n",
    "    plot_data = {\"U/J\" : [], \"Delta_E\": [], \"f_c\": [], \"total_variance\": [], \"correlation\": []}\n",
    "    with concurrent.futures.ThreadPoolExecutor(max_workers=12) as executor:\n",
    "        future_to_plot_parameters = {executor.submit(get_data_for_plots, M, N, J, U, pbc, basis_apriori=Fock_Basis, plot_type=plot_type): U for U in U_tab}\n",
    "        for future in concurrent.futures.as_completed(future_to_plot_parameters):\n",
    "            # result[future_to_plot_parameters[future]] = future.result()\n",
    "            plot_data[\"U/J\"].append(future_to_plot_parameters[future])\n",
    "            plot_data[\"Delta_E\"].append(future.result()['delta_E'])\n",
    "            plot_data[\"f_c\"].append(future.result()['f_c'])\n",
    "            plot_data[\"total_variance\"].append(future.result()['total_variance'])\n",
    "            plot_data[\"correlation\"].append(future.result()['correlation'])\n",
    "    return plot_data"
   ]
  },
  {
   "cell_type": "markdown",
   "metadata": {
    "collapsed": false,
    "pycharm": {
     "name": "#%% md\n"
    }
   },
   "source": [
    "## Demonstration of process"
   ]
  },
  {
   "cell_type": "markdown",
   "metadata": {
    "collapsed": false,
    "pycharm": {
     "name": "#%% md\n"
    }
   },
   "source": [
    "### Control constants"
   ]
  },
  {
   "cell_type": "code",
   "execution_count": 242,
   "metadata": {
    "collapsed": false,
    "pycharm": {
     "name": "#%%\n"
    }
   },
   "outputs": [],
   "source": [
    "# N - Number of particles in a system\n",
    "N = 2\n",
    "# M - Number of sites to fill\n",
    "M = 5\n",
    "# J - Hopping scaling factor\n",
    "J = -1\n",
    "# U - On-site potential scaling factor\n",
    "U = 1\n",
    "# Statistic (bose/fermi)\n",
    "stat = 'f'\n",
    "# Number of basis vector components\n",
    "component_count = 1\n",
    "# Periodic bounary conditions\n",
    "pbc = 0\n",
    "\n",
    "# D - Dimension of the final Hamiltonian matrix\n",
    "D = calc_Dim(M, N, statistic=stat)"
   ]
  },
  {
   "cell_type": "markdown",
   "metadata": {
    "collapsed": false,
    "pycharm": {
     "name": "#%% md\n"
    }
   },
   "source": [
    "### Generating basis vectors"
   ]
  },
  {
   "cell_type": "code",
   "execution_count": 243,
   "metadata": {
    "collapsed": false,
    "pycharm": {
     "name": "#%%\n"
    }
   },
   "outputs": [
    {
     "data": {
      "text/plain": [
       "(10, 5)"
      ]
     },
     "execution_count": 243,
     "metadata": {},
     "output_type": "execute_result"
    }
   ],
   "source": [
    "A = get_tensor_basis(M, N, statistic=stat, component_count=component_count)\n",
    "A.shape"
   ]
  },
  {
   "cell_type": "markdown",
   "metadata": {
    "collapsed": false,
    "pycharm": {
     "name": "#%% md\n"
    }
   },
   "source": [
    "### Hashing the basis for more efficient search"
   ]
  },
  {
   "cell_type": "code",
   "execution_count": 244,
   "metadata": {
    "collapsed": false,
    "pycharm": {
     "name": "#%%\n"
    }
   },
   "outputs": [],
   "source": [
    "# Getting the basis vectors hashed\n",
    "tab_T = np.array([tag_func(v) for v in A])"
   ]
  },
  {
   "cell_type": "code",
   "execution_count": 245,
   "metadata": {
    "collapsed": false,
    "pycharm": {
     "name": "#%%\n"
    }
   },
   "outputs": [
    {
     "name": "stdout",
     "output_type": "stream",
     "text": [
      "CPU times: user 201 µs, sys: 15 µs, total: 216 µs\n",
      "Wall time: 212 µs\n"
     ]
    }
   ],
   "source": [
    "%%time\n",
    "# Preserving the original order of basis vectors\n",
    "ind = np.argsort(tab_T)\n",
    "# Sorting the new array for more efficient searching (by bisection)\n",
    "t_sorted = tab_T.copy()\n",
    "t_sorted.sort()\n",
    "t_dict = Dict()\n",
    "for key, val in zip(tab_T, np.arange(0, A.shape[0])):\n",
    "    t_dict[key] = val"
   ]
  },
  {
   "cell_type": "markdown",
   "metadata": {
    "collapsed": false,
    "pycharm": {
     "name": "#%% md\n"
    }
   },
   "source": [
    "The Hamiltonian for the kinetic part is in our case:\n",
    "$$ \\hat{H}_{kin} = -J\\sum_{i = 0}^{M-1} (a^\\dagger_i a_{i+1} + a^\\dagger_{i+1}a_i) $$\n",
    "\n",
    "And the individual element in row $u$ and column $v$ is:\n",
    "$$ \\hat{H}_{u, v} = \\langle u | \\hat{H} | v \\rangle = factor_1 \\cdot factor_2 \\cdot (-J)$$"
   ]
  },
  {
   "cell_type": "code",
   "execution_count": 246,
   "metadata": {
    "collapsed": false,
    "pycharm": {
     "name": "#%%\n"
    }
   },
   "outputs": [],
   "source": [
    "# First tab - values, last two tabs - coordinates\n",
    "H_kin_prep = [List(), List(), List()]"
   ]
  },
  {
   "cell_type": "markdown",
   "metadata": {
    "collapsed": false,
    "pycharm": {
     "name": "#%% md\n"
    }
   },
   "source": [
    "Here we have a PBC option enabled"
   ]
  },
  {
   "cell_type": "code",
   "execution_count": 247,
   "metadata": {
    "collapsed": false,
    "pycharm": {
     "name": "#%%\n"
    }
   },
   "outputs": [],
   "source": [
    "H_kin_prep = get_kinetic_H(A, M, J, t_dict, pbc=pbc, statistic=stat, component_count=component_count, component_no=0)"
   ]
  },
  {
   "cell_type": "markdown",
   "metadata": {
    "collapsed": false,
    "pycharm": {
     "name": "#%% md\n"
    }
   },
   "source": [
    "Output data type is A list of typed lists from Numba, for the function to be JIT-compilable"
   ]
  },
  {
   "cell_type": "code",
   "execution_count": 248,
   "metadata": {
    "collapsed": false,
    "pycharm": {
     "name": "#%%\n"
    }
   },
   "outputs": [
    {
     "data": {
      "text/plain": [
       "(ListType[float64]([-1.0, -1.0, -1.0, -1.0, -1.0, -1.0, -1.0, -1.0, -1.0, -1.0, -1.0, -1.0, -1.0, -1.0, -1.0, -1.0, -1.0, -1.0, -1.0, -1.0, -1.0, -1.0, -1.0, -1.0, ...]),\n",
       " ListType[int64]([0, 1, 1, 1, 2, 2, 2, 3, 3, 4, 4, 5, 5, 5, 5, 6, 6, 6, 7, 7, 8, 8, 8, 9, ...]),\n",
       " ListType[int64]([1, 4, 0, 2, 5, 1, 3, 6, 2, 1, 5, 2, 7, 4, 6, 3, 8, 5, 5, 8, 6, 9, 7, 8, ...]))"
      ]
     },
     "execution_count": 248,
     "metadata": {},
     "output_type": "execute_result"
    }
   ],
   "source": [
    "H_kin_prep"
   ]
  },
  {
   "cell_type": "code",
   "execution_count": 249,
   "metadata": {
    "collapsed": false,
    "pycharm": {
     "name": "#%%\n"
    }
   },
   "outputs": [],
   "source": [
    "mat = sc.sparse.coo_matrix((H_kin_prep[0], (H_kin_prep[1], H_kin_prep[2])), shape=(D**component_count, D**component_count))"
   ]
  },
  {
   "cell_type": "code",
   "execution_count": 250,
   "metadata": {
    "collapsed": false,
    "pycharm": {
     "name": "#%%\n"
    }
   },
   "outputs": [],
   "source": [
    "mat_out = mat"
   ]
  },
  {
   "cell_type": "code",
   "execution_count": 251,
   "metadata": {
    "collapsed": false,
    "pycharm": {
     "name": "#%%\n"
    }
   },
   "outputs": [],
   "source": [
    "# H_kin_prep = get_kinetic_H(A, M, J, t_dict, pbc=pbc, statistic=stat, component_no=1)"
   ]
  },
  {
   "cell_type": "code",
   "execution_count": 252,
   "metadata": {
    "collapsed": false,
    "pycharm": {
     "name": "#%%\n"
    }
   },
   "outputs": [],
   "source": [
    "# mat = sc.sparse.coo_matrix((H_kin_prep[0], (H_kin_prep[1], H_kin_prep[2])), shape=(D**component_count, D**component_count))"
   ]
  },
  {
   "cell_type": "code",
   "execution_count": 253,
   "metadata": {
    "collapsed": false,
    "pycharm": {
     "name": "#%%\n"
    }
   },
   "outputs": [],
   "source": [
    "# mat_out += mat"
   ]
  },
  {
   "cell_type": "code",
   "execution_count": 254,
   "metadata": {
    "collapsed": false,
    "pycharm": {
     "name": "#%%\n"
    }
   },
   "outputs": [],
   "source": [
    "mat_dense = mat_out.toarray()"
   ]
  },
  {
   "cell_type": "code",
   "execution_count": 255,
   "metadata": {
    "collapsed": false,
    "pycharm": {
     "name": "#%%\n"
    }
   },
   "outputs": [
    {
     "data": {
      "text/plain": [
       "<AxesSubplot:>"
      ]
     },
     "execution_count": 255,
     "metadata": {},
     "output_type": "execute_result"
    },
    {
     "data": {
      "image/png": "[encoded data removed]",
      "text/plain": [
       "<Figure size 720x576 with 2 Axes>"
      ]
     },
     "metadata": {
      "needs_background": "light"
     },
     "output_type": "display_data"
    }
   ],
   "source": [
    "plt.figure(figsize=(10,8))\n",
    "sns.heatmap(mat_dense, square=True, cmap='coolwarm')"
   ]
  },
  {
   "cell_type": "markdown",
   "metadata": {
    "pycharm": {
     "name": "#%% md\n"
    }
   },
   "source": [
    "### The diagonal part"
   ]
  },
  {
   "cell_type": "markdown",
   "metadata": {
    "pycharm": {
     "name": "#%% md\n"
    }
   },
   "source": [
    "The Hamiltonian for the interactions part is in our case:\n",
    "$$ \\hat{H}_{int} = \\frac{U}{2}\\sum_{i = 0}^{M} \\hat{n}_i(\\hat{n}_i - 1)= \\frac{U}{2}\\sum_{i = 0}^{M} a^\\dagger_i a_{i}(a^\\dagger_{i}a_i - 1) $$\n",
    "\n",
    "And the individual diagonal element in row $v$ and column $v$ is:\n",
    "$$ \\hat{H}_{v, v} = \\langle v | \\hat{H}_{int} | v \\rangle = \\frac{U}{2} (factor_1^2 \\cdot factor_2^2 - factor_1' \\cdot factor_2')$$"
   ]
  },
  {
   "cell_type": "code",
   "execution_count": 256,
   "metadata": {
    "collapsed": false,
    "jupyter": {
     "outputs_hidden": false
    },
    "pycharm": {
     "name": "#%%\n"
    }
   },
   "outputs": [],
   "source": [
    "# First tab - values, last two tabs - coordinates\n",
    "H_int_prep = [List(), List(), List()]"
   ]
  },
  {
   "cell_type": "code",
   "execution_count": 257,
   "metadata": {
    "collapsed": false,
    "jupyter": {
     "outputs_hidden": false
    },
    "pycharm": {
     "name": "#%%\n"
    }
   },
   "outputs": [],
   "source": [
    "H_int_prep = get_interactions_H(A, M, U, t_dict, statistic=stat, component_count=component_count, component_no=1)"
   ]
  },
  {
   "cell_type": "markdown",
   "metadata": {
    "pycharm": {
     "name": "#%% md\n"
    }
   },
   "source": [
    "Output data type is A list of typed lists from Numba, for the function to be JIT-compilable"
   ]
  },
  {
   "cell_type": "code",
   "execution_count": 258,
   "metadata": {
    "collapsed": false,
    "jupyter": {
     "outputs_hidden": false
    },
    "pycharm": {
     "name": "#%%\n"
    }
   },
   "outputs": [
    {
     "data": {
      "text/plain": [
       "(ListType[float64]([0.5, -0.5, 0.5, -0.5, 0.5, -0.5, 0.5, -0.5, 0.5, -0.5, 0.5, -0.5, 0.5, -0.5, 0.5, -0.5, 0.5, -0.5, 0.5, -0.5, 0.5, -0.5, 0.5, -0.5, 0.5, -0.5, 0.5, -0.5, 0.5, -0.5, 0.5, -0.5, 0.5, -0.5, 0.5, -0.5, 0.5, -0.5, 0.5, -0.5, 0.5, -0.5, 0.5, -0.5, 0.5, -0.5, 0.5, -0.5, 0.5, -0.5, 0.5, -0.5, 0.5, -0.5, 0.5, -0.5, 0.5, -0.5, 0.5, -0.5, 0.5, -0.5, 0.5, -0.5, 0.5, -0.5, 0.5, -0.5, 0.5, -0.5, 0.5, -0.5, 0.5, -0.5, 0.5, -0.5, 0.5, -0.5, 0.5, -0.5, ...]),\n",
       " ListType[int64]([0, 0, 0, 0, 0, 0, 0, 0, 1, 1, 1, 1, 1, 1, 1, 1, 2, 2, 2, 2, 2, 2, 2, 2, 3, 3, 3, 3, 3, 3, 3, 3, 4, 4, 4, 4, 4, 4, 4, 4, 5, 5, 5, 5, 5, 5, 5, 5, 6, 6, 6, 6, 6, 6, 6, 6, 7, 7, 7, 7, 7, 7, 7, 7, 8, 8, 8, 8, 8, 8, 8, 8, 9, 9, 9, 9, 9, 9, 9, 9, ...]),\n",
       " ListType[int64]([0, 0, 0, 0, 0, 0, 0, 0, 1, 1, 1, 1, 1, 1, 1, 1, 2, 2, 2, 2, 2, 2, 2, 2, 3, 3, 3, 3, 3, 3, 3, 3, 4, 4, 4, 4, 4, 4, 4, 4, 5, 5, 5, 5, 5, 5, 5, 5, 6, 6, 6, 6, 6, 6, 6, 6, 7, 7, 7, 7, 7, 7, 7, 7, 8, 8, 8, 8, 8, 8, 8, 8, 9, 9, 9, 9, 9, 9, 9, 9, ...]))"
      ]
     },
     "execution_count": 258,
     "metadata": {},
     "output_type": "execute_result"
    }
   ],
   "source": [
    "H_int_prep"
   ]
  },
  {
   "cell_type": "code",
   "execution_count": 259,
   "metadata": {
    "collapsed": false,
    "jupyter": {
     "outputs_hidden": false
    },
    "pycharm": {
     "name": "#%%\n"
    }
   },
   "outputs": [],
   "source": [
    "mat_int = sc.sparse.coo_matrix((H_int_prep[0], (H_int_prep[1], H_int_prep[2])), shape=(D**component_count, D**component_count))"
   ]
  },
  {
   "cell_type": "code",
   "execution_count": 260,
   "metadata": {
    "collapsed": false,
    "jupyter": {
     "outputs_hidden": false
    },
    "pycharm": {
     "name": "#%%\n"
    }
   },
   "outputs": [],
   "source": [
    "mat_int_dense = mat_int.toarray()"
   ]
  },
  {
   "cell_type": "code",
   "execution_count": 261,
   "metadata": {
    "collapsed": false,
    "jupyter": {
     "outputs_hidden": false
    },
    "pycharm": {
     "name": "#%%\n"
    }
   },
   "outputs": [
    {
     "data": {
      "text/plain": [
       "<AxesSubplot:>"
      ]
     },
     "execution_count": 261,
     "metadata": {},
     "output_type": "execute_result"
    },
    {
     "data": {
      "image/png": "[encoded data removed]",
      "text/plain": [
       "<Figure size 720x576 with 2 Axes>"
      ]
     },
     "metadata": {
      "needs_background": "light"
     },
     "output_type": "display_data"
    }
   ],
   "source": [
    "plt.figure(figsize=(10,8))\n",
    "sns.heatmap(mat_int_dense, square=True, cmap='coolwarm')"
   ]
  },
  {
   "cell_type": "markdown",
   "metadata": {
    "pycharm": {
     "name": "#%% md\n"
    }
   },
   "source": [
    "### Both matrices joined together"
   ]
  },
  {
   "cell_type": "code",
   "execution_count": 262,
   "metadata": {
    "collapsed": false,
    "jupyter": {
     "outputs_hidden": false
    },
    "pycharm": {
     "name": "#%%\n"
    }
   },
   "outputs": [
    {
     "data": {
      "text/plain": [
       "<AxesSubplot:title={'center':'N = 2, L = 5, dim = 10'}>"
      ]
     },
     "execution_count": 262,
     "metadata": {},
     "output_type": "execute_result"
    },
    {
     "data": {
      "image/png": "[encoded data removed]",
      "text/plain": [
       "<Figure size 720x576 with 2 Axes>"
      ]
     },
     "metadata": {
      "needs_background": "light"
     },
     "output_type": "display_data"
    }
   ],
   "source": [
    "plt.figure(figsize=(10,8))\n",
    "plt.title(\"N = {}, L = {}, dim = {}\".format(N, M, D))\n",
    "sns.heatmap(np.matrix((mat_int_dense+mat_dense)), square=True, cmap='coolwarm', annot=False)\n",
    "# plt.savefig(\"BH Hamiltonian_N={}_L={}.pdf\".format(N, M))"
   ]
  },
  {
   "cell_type": "markdown",
   "metadata": {
    "pycharm": {
     "name": "#%% md\n"
    }
   },
   "source": [
    "## All the processes are joined into this one function\n",
    "(Minus the unnecesary conversions to dense matrices on the go)"
   ]
  },
  {
   "cell_type": "code",
   "execution_count": 263,
   "metadata": {
    "collapsed": false,
    "pycharm": {
     "name": "#%%\n"
    }
   },
   "outputs": [],
   "source": [
    "# N - Number of particles in a system\n",
    "N = 4\n",
    "# M - Number of sites to fill\n",
    "M = 11\n",
    "# J - Hopping scaling factor\n",
    "J = -1\n",
    "# U - On-site potential scaling factor\n",
    "U = 1\n",
    "# Statistic (bose/fermi)\n",
    "stat = 'f'\n",
    "# Number of basis vector components\n",
    "component_count = 1\n",
    "# Periodic bounary conditions\n",
    "pbc = 0\n",
    "\n",
    "# D - Dimension of the final Hamiltonian matrix\n",
    "D = calc_Dim(M, N, statistic=stat)"
   ]
  },
  {
   "cell_type": "code",
   "execution_count": 264,
   "metadata": {
    "collapsed": false,
    "jupyter": {
     "outputs_hidden": false
    },
    "pycharm": {
     "name": "#%%\n"
    }
   },
   "outputs": [
    {
     "name": "stderr",
     "output_type": "stream",
     "text": [
      "/var/folders/4f/nc8733x97cnbfw1jfx_t9mfm0000gn/T/ipykernel_43558/952533081.py:73: UserWarning: Matplotlib is currently using module://matplotlib_inline.backend_inline, which is a non-GUI backend, so cannot show the figure.\n",
      "  ax.figure.show()\n"
     ]
    },
    {
     "data": {
      "image/png": "[encoded data removed]",
      "text/plain": [
       "<Figure size 720x576 with 2 Axes>"
      ]
     },
     "metadata": {
      "needs_background": "light"
     },
     "output_type": "display_data"
    },
    {
     "name": "stdout",
     "output_type": "stream",
     "text": [
      "CPU times: user 5.15 s, sys: 936 ms, total: 6.08 s\n",
      "Wall time: 4.56 s\n"
     ]
    }
   ],
   "source": [
    "%time H, Fock_Basis = get_Hamiltonian(N=N, M=M, J=J, U=U, pbc=pbc, statistic=stat, plot_accurate=True, annot_accurate=False, plot_sparsity_pattern=True, save_plot=True, return_basis=True, save_sparse=True, plot_show=True, component_count=1)"
   ]
  },
  {
   "cell_type": "code",
   "execution_count": 265,
   "metadata": {
    "collapsed": false,
    "jupyter": {
     "outputs_hidden": false
    },
    "pycharm": {
     "name": "#%%\n"
    }
   },
   "outputs": [],
   "source": [
    "evals, evecs = sc.sparse.linalg.eigsh(H, 2, which='SA', return_eigenvectors=True)"
   ]
  },
  {
   "cell_type": "code",
   "execution_count": 266,
   "metadata": {
    "collapsed": false,
    "jupyter": {
     "outputs_hidden": false
    },
    "pycharm": {
     "name": "#%%\n"
    }
   },
   "outputs": [
    {
     "data": {
      "text/plain": [
       "array([-6.07811602, -5.59575411])"
      ]
     },
     "execution_count": 266,
     "metadata": {},
     "output_type": "execute_result"
    }
   ],
   "source": [
    "evals"
   ]
  },
  {
   "cell_type": "code",
   "execution_count": 267,
   "metadata": {
    "collapsed": false,
    "jupyter": {
     "outputs_hidden": false
    },
    "pycharm": {
     "name": "#%%\n"
    }
   },
   "outputs": [
    {
     "data": {
      "text/plain": [
       "0.48236190979495586"
      ]
     },
     "execution_count": 267,
     "metadata": {},
     "output_type": "execute_result"
    }
   ],
   "source": [
    "delta_E = evals[1] - evals[0]\n",
    "delta_E"
   ]
  },
  {
   "cell_type": "markdown",
   "metadata": {
    "pycharm": {
     "name": "#%% md\n"
    }
   },
   "source": [
    "### Calculating the density matrix"
   ]
  },
  {
   "cell_type": "code",
   "execution_count": 268,
   "metadata": {
    "collapsed": false,
    "jupyter": {
     "outputs_hidden": false
    },
    "pycharm": {
     "name": "#%%\n"
    }
   },
   "outputs": [
    {
     "data": {
      "image/png": "[encoded data removed]",
      "text/plain": [
       "<Figure size 720x576 with 2 Axes>"
      ]
     },
     "metadata": {
      "needs_background": "light"
     },
     "output_type": "display_data"
    },
    {
     "name": "stdout",
     "output_type": "stream",
     "text": [
      "CPU times: user 3.11 s, sys: 136 ms, total: 3.24 s\n",
      "Wall time: 3.07 s\n"
     ]
    }
   ],
   "source": [
    "%time rho_k = get_density_matrix(N, M, Fock_Basis, evecs, pbc, U, J, component_count=component_count, save_sparse=True, save_plot=True, plot_show=True, annot_plot=True)"
   ]
  },
  {
   "cell_type": "code",
   "execution_count": 269,
   "metadata": {
    "collapsed": false,
    "jupyter": {
     "outputs_hidden": false
    },
    "pycharm": {
     "name": "#%%\n"
    }
   },
   "outputs": [
    {
     "data": {
      "text/plain": [
       "Text(0.5, 0, '$i$')"
      ]
     },
     "execution_count": 269,
     "metadata": {},
     "output_type": "execute_result"
    },
    {
     "data": {
      "image/png": "[encoded data removed]",
      "text/plain": [
       "<Figure size 720x360 with 1 Axes>"
      ]
     },
     "metadata": {
      "needs_background": "light"
     },
     "output_type": "display_data"
    }
   ],
   "source": [
    "plt.rcParams['text.usetex'] = True\n",
    "plt.figure(figsize=(10,5))\n",
    "plt.plot(np.arange(0,M), rho_k.diagonal())\n",
    "plt.plot(np.arange(0,M), rho_k.diagonal(), lw=0, marker=\".\")\n",
    "plt.ylim(0,2)\n",
    "plt.ylabel(r'$\\langle \\hat{n}_i \\rangle$', fontsize=20)\n",
    "plt.xlabel(r'$i$', fontsize=20)"
   ]
  },
  {
   "cell_type": "code",
   "execution_count": 270,
   "metadata": {
    "collapsed": false,
    "jupyter": {
     "outputs_hidden": false
    },
    "pycharm": {
     "name": "#%%\n"
    }
   },
   "outputs": [],
   "source": [
    "# %time plot_data = generate_data(N, M, J, np.arange(0,20, 1), plot_type='sparse')"
   ]
  },
  {
   "cell_type": "code",
   "execution_count": 271,
   "metadata": {
    "collapsed": false,
    "jupyter": {
     "outputs_hidden": false
    },
    "pycharm": {
     "name": "#%%\n"
    }
   },
   "outputs": [],
   "source": [
    "# %%time\n",
    "# U_tab = np.arange(0,20, 1)\n",
    "# J = 1\n",
    "# result_data = {}\n",
    "# for (N,M) in notebook.tqdm([(9,9)]):\n",
    "#     res = generate_data(N, M, J, U_tab, plot_type='off')\n",
    "#     result_data[\"N={},M={}\".format(N,M)] = res\n",
    "#     with open(\"Result_pickles/results_N={},M={}\".format(N,M), 'wb') as file_to_dump:\n",
    "#         pickle.dump(res, file_to_dump)"
   ]
  },
  {
   "cell_type": "code",
   "execution_count": 272,
   "metadata": {
    "collapsed": false,
    "jupyter": {
     "outputs_hidden": false
    },
    "pycharm": {
     "name": "#%%\n"
    }
   },
   "outputs": [],
   "source": [
    "result_data = {}\n",
    "with open(\"Result_pickles/results_N=7,M=7\", \"rb\") as file_read:\n",
    "    result_data[\"N=7,M=7\"] = pickle.load(file_read)"
   ]
  },
  {
   "cell_type": "code",
   "execution_count": 273,
   "metadata": {
    "collapsed": false,
    "jupyter": {
     "outputs_hidden": false
    },
    "pycharm": {
     "name": "#%%\n"
    }
   },
   "outputs": [
    {
     "data": {
      "text/plain": [
       "<matplotlib.legend.Legend at 0x17f002e20>"
      ]
     },
     "execution_count": 273,
     "metadata": {},
     "output_type": "execute_result"
    },
    {
     "data": {
      "image/png": "[encoded data removed]",
      "text/plain": [
       "<Figure size 720x576 with 1 Axes>"
      ]
     },
     "metadata": {
      "needs_background": "light"
     },
     "output_type": "display_data"
    }
   ],
   "source": [
    "N_plot = 7\n",
    "M_plot = N_plot\n",
    "fig = plt.figure(figsize=(10,8))\n",
    "plt.rcParams['text.usetex'] = True\n",
    "plt.plot(result_data[\"N={},M={}\".format(N_plot,M_plot)][\"U/J\"], result_data[\"N={},M={}\".format(N_plot,M_plot)][\"correlation\"], marker=\".\", ls=\"\", color=\"firebrick\", label=\"correlation\")\n",
    "plt.plot(result_data[\"N={},M={}\".format(N_plot,M_plot)][\"U/J\"], result_data[\"N={},M={}\".format(N_plot,M_plot)][\"f_c\"], marker=\".\", ls=\"\", label=\"$f_c$\")\n",
    "plt.title(\"N={}, M={}\".format(N_plot,M_plot), fontsize=\"20\")\n",
    "plt.legend(fontsize='xx-large')"
   ]
  },
  {
   "cell_type": "code",
   "execution_count": 274,
   "metadata": {
    "collapsed": false,
    "jupyter": {
     "outputs_hidden": false
    },
    "pycharm": {
     "name": "#%%\n"
    }
   },
   "outputs": [],
   "source": [
    "# for key in result_data.keys():\n",
    "#     with open(\"Result_pickles/results_{}\".format(key), 'wb') as file_to_dump:\n",
    "#         pickle.dump(result_data[key], file_to_dump)"
   ]
  },
  {
   "cell_type": "code",
   "execution_count": 275,
   "metadata": {
    "collapsed": false,
    "jupyter": {
     "outputs_hidden": false
    },
    "pycharm": {
     "name": "#%%\n"
    }
   },
   "outputs": [],
   "source": [
    "# N_load = 7\n",
    "# M_load = N_load\n",
    "# hamiltonians = {}\n",
    "# hamiltonians[\"N={},M={}\".format(N_load,M_load)] = load_sparse_coo(\"Hamiltonians/N={}_L={}/BH_Hamiltonian_N={}_L={}_U_J=10_00\".format(N_load,M_load,N_load,M_load))"
   ]
  },
  {
   "cell_type": "code",
   "execution_count": 276,
   "metadata": {
    "collapsed": false,
    "jupyter": {
     "outputs_hidden": false
    },
    "pycharm": {
     "name": "#%%\n"
    }
   },
   "outputs": [],
   "source": [
    "# lambda_H, psi_ket = sc.sparse.linalg.eigsh(hamiltonians[\"N={},M={}\".format(N_load,M_load)], 2, which='SA', return_eigenvectors=True)"
   ]
  },
  {
   "cell_type": "code",
   "execution_count": 277,
   "metadata": {
    "collapsed": false,
    "jupyter": {
     "outputs_hidden": false
    },
    "pycharm": {
     "name": "#%%\n"
    }
   },
   "outputs": [],
   "source": [
    "# psi_ket"
   ]
  },
  {
   "cell_type": "code",
   "execution_count": 278,
   "metadata": {
    "collapsed": false,
    "jupyter": {
     "outputs_hidden": false
    },
    "pycharm": {
     "name": "#%%\n"
    }
   },
   "outputs": [],
   "source": [
    "# F_B = get_basis(M_load, N_load)"
   ]
  },
  {
   "cell_type": "code",
   "execution_count": 279,
   "metadata": {
    "collapsed": false,
    "jupyter": {
     "outputs_hidden": false
    },
    "pycharm": {
     "name": "#%%\n"
    }
   },
   "outputs": [],
   "source": [
    "# show_wave_function(psi_ket[:, 0], F_B, plot_wf=True, label_ticks=False)"
   ]
  },
  {
   "cell_type": "code",
   "execution_count": 280,
   "metadata": {
    "collapsed": false,
    "jupyter": {
     "outputs_hidden": false
    },
    "pycharm": {
     "name": "#%%\n"
    }
   },
   "outputs": [],
   "source": [
    "# calc_IPR(psi_ket[:, 0])"
   ]
  },
  {
   "cell_type": "code",
   "execution_count": null,
   "metadata": {
    "collapsed": false,
    "jupyter": {
     "outputs_hidden": false
    },
    "pycharm": {
     "name": "#%%\n"
    }
   },
   "outputs": [],
   "source": []
  }
 ],
 "metadata": {
  "kernelspec": {
   "display_name": "Python 3.9.7 ('base')",
   "language": "python",
   "name": "python3"
  },
  "language_info": {
   "codemirror_mode": {
    "name": "ipython",
    "version": 3
   },
   "file_extension": ".py",
   "mimetype": "text/x-python",
   "name": "python",
   "nbconvert_exporter": "python",
   "pygments_lexer": "ipython3",
   "version": "3.9.13"
  },
  "vscode": {
   "interpreter": {
    "hash": "c5d325fc34b5656945efb66f598b92e5cb198609ae53ae432449b89296683f40"
   }
  },
  "widgets": {
   "application/vnd.jupyter.widget-state+json": {
    "state": {},
    "version_major": 2,
    "version_minor": 0
   }
  }
 },
 "nbformat": 4,
 "nbformat_minor": 4
}
